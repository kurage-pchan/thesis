{
 "cells": [
  {
   "cell_type": "code",
   "execution_count": 1,
   "id": "b61c71bf",
   "metadata": {},
   "outputs": [],
   "source": [
    "import cv2\n",
    "from matplotlib import pyplot as plt\n",
    "import numpy as np\n",
    "from pathlib import Path\n",
    "import os\n",
    "import sys\n",
    "import glob\n",
    "import time\n",
    "from PIL import Image\n",
    "\n",
    "%matplotlib inline"
   ]
  },
  {
   "cell_type": "code",
   "execution_count": null,
   "id": "62986d9a",
   "metadata": {},
   "outputs": [],
   "source": [
    "folder_path = \"D:\\Code/research/task10/outputbox\"\n",
    "\n",
    "path = glob.glob( os.path.join( folder_path, \"*.jpg\" ) )\n",
    "print(path)\n",
    "img = cv2.imread( path[0] )\n",
    "print( np.array( img ).shape )\n",
    "data = [ cv2.imread(p,cv2.IMREAD_GRAYSCALE) for p in path ]\n",
    "\n",
    "print(data)"
   ]
  },
  {
   "cell_type": "code",
   "execution_count": 4,
   "id": "4043441e",
   "metadata": {},
   "outputs": [],
   "source": [
    "def list_from_mask_coco(images):\n",
    "    # Compute connected components\n",
    "    images_box = []\n",
    "    for img in images:\n",
    "        spread = cv2.connectedComponentsWithStats(255 - img)\n",
    "        img_box = []\n",
    "        _, _, stats, centroids = spread\n",
    "        img_h, img_w = img.shape\n",
    "\n",
    "        for i in range(len(centroids)):\n",
    "            x_center = centroids[i][0]\n",
    "            y_center = centroids[i][1]\n",
    "            width = stats[i][2]\n",
    "            height = stats[i][3]\n",
    "            # 左上座標に変換\n",
    "            x_min = x_center - width / 2\n",
    "            y_min = y_center - height / 2\n",
    "            img_box.append([0, x_min, y_min, width, height])  # 0はクラスID\n",
    "\n",
    "        images_box.append(img_box)\n",
    "\n",
    "    return images_box"
   ]
  },
  {
   "cell_type": "code",
   "execution_count": 5,
   "id": "1a98a036",
   "metadata": {},
   "outputs": [
    {
     "name": "stdout",
     "output_type": "stream",
     "text": [
      "[0, -69.15625061784536, -23.64275687538307, 476, 500]\n"
     ]
    }
   ],
   "source": [
    "images_box = list_from_mask_coco(data)\n",
    "print(images_box[0][0])"
   ]
  },
  {
   "cell_type": "code",
   "execution_count": 7,
   "id": "60c1e890",
   "metadata": {},
   "outputs": [],
   "source": [
    "images_box_coco = list_from_mask_coco(data)\n",
    "for i, image in enumerate(images_box_coco):\n",
    "    path_w = ('D:\\Code/research/task10/Outputtxt/testcoco_{}.txt').format(i)\n",
    "    with open(path_w, mode='w') as f:\n",
    "        for sub in image:\n",
    "            f.write(' '.join(map(str, sub)) + '\\n')"
   ]
  }
 ],
 "metadata": {
  "kernelspec": {
   "display_name": "venv3.9.13",
   "language": "python",
   "name": "python3"
  },
  "language_info": {
   "codemirror_mode": {
    "name": "ipython",
    "version": 3
   },
   "file_extension": ".py",
   "mimetype": "text/x-python",
   "name": "python",
   "nbconvert_exporter": "python",
   "pygments_lexer": "ipython3",
   "version": "3.9.13"
  }
 },
 "nbformat": 4,
 "nbformat_minor": 5
}
