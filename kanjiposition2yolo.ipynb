{
 "cells": [
  {
   "cell_type": "code",
   "execution_count": 3,
   "metadata": {},
   "outputs": [],
   "source": [
    "import cv2\n",
    "from matplotlib import pyplot as plt\n",
    "import numpy as np\n",
    "from pathlib import Path\n",
    "import os\n",
    "import sys\n",
    "import glob\n",
    "import time\n",
    "from PIL import Image\n",
    "\n",
    "%matplotlib inline"
   ]
  },
  {
   "cell_type": "code",
   "execution_count": null,
   "metadata": {},
   "outputs": [],
   "source": [
    "folder_path = \"ここにパスを入れる",
    "\n",
    "path = glob.glob( os.path.join( folder_path, \"*.jpg\" ) )\n",
    "print(path)\n",
    "img = cv2.imread( path[0] )\n",
    "print( np.array( img ).shape )\n",
    "data = [ cv2.imread(p,cv2.IMREAD_GRAYSCALE) for p in path ]\n",
    "\n",
    "print(data)"
   ]
  },
  {
   "cell_type": "code",
   "execution_count": 25,
   "metadata": {},
   "outputs": [],
   "source": [
    "def list_from_mask(images):\n",
    "    # Compute connected components\n",
    "    images_box = []\n",
    "    for img in images:\n",
    "        spread = cv2.connectedComponentsWithStats(255 - img)\n",
    "        img_box = []\n",
    "        _, _, stats, centroids = spread\n",
    "\n",
    "        for i in range(len(centroids)):\n",
    "            x_center = centroids[i][0]\n",
    "            y_center = centroids[i][1]\n",
    "            width = stats[i][2]\n",
    "            height = stats[i][3]\n",
    "            img_box.append([0,x_center,y_center,width,height])\n",
    "\n",
    "        images_box.append(img_box)\n",
    "\n",
    "\n",
    "    return images_box"
   ]
  },
  {
   "cell_type": "code",
   "execution_count": 26,
   "metadata": {},
   "outputs": [
    {
     "name": "stdout",
     "output_type": "stream",
     "text": [
      "[0, 3415.181238865447, 1890.731640050167, 5075, 3698]\n"
     ]
    }
   ],
   "source": [
    "images_box = list_from_mask(data)\n",
    "print(images_box[0][0])"
   ]
  },
  {
   "cell_type": "markdown",
   "metadata": {},
   "source": [
    "ファイル書き込み"
   ]
  },
  {
   "cell_type": "code",
   "execution_count": 28,
   "metadata": {},
   "outputs": [],
   "source": [
    "for i,image in enumerate(images_box):\n",
    "    path_w = ('ここにパスを入れる\\testyolo_{}.txt').format(i)\n",
    "\n",
    "    with open(path_w, mode='w') as f:\n",
    "        for sub in image:\n",
    "            f.write(' '.join(map(str, sub)) + '\\n')"
   ]
  }
 ],
 "metadata": {
  "kernelspec": {
   "display_name": "Python 3",
   "language": "python",
   "name": "python3"
  },
  "language_info": {
   "codemirror_mode": {
    "name": "ipython",
    "version": 3
   },
   "file_extension": ".py",
   "mimetype": "text/x-python",
   "name": "python",
   "nbconvert_exporter": "python",
   "pygments_lexer": "ipython3",
   "version": "3.9.13"
  }
 },
 "nbformat": 4,
 "nbformat_minor": 2
}
